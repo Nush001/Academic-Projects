{
 "cells": [
  {
   "cell_type": "markdown",
   "id": "d8c26ebd",
   "metadata": {},
   "source": [
    "# ALY-6110: Data Management & Big data\n",
    "\n",
    "### Final Project —Report\n",
    "### Electric Vehicle Population Dataset\n",
    "\n",
    "### Professor: Daya Rudhramoorthi\n",
    "### Date: 06/30/2023\n",
    "\n",
    "### Group Members:\n",
    "### Anoushka Hazari\n",
    "### Xuanyu Bao\n",
    "\n",
    "\n",
    "\n",
    "\n",
    "\n",
    "\n",
    "## Introduction:\n",
    "\n",
    "The adoption of electric vehicles (EVs) is a significant real-world problem that can be effectively addressed using big data analytics. The electric vehicle data set provides a valuable resource for understanding the factors influencing EV adoption, identifying market trends, and formulating strategies to promote sustainable transportation. By harnessing the power of big data, we can uncover insights that drive informed decision-making and contribute to the transition towards cleaner and more efficient transportation systems.\n",
    "\n",
    "## Problem Statement:\n",
    "The problem at hand is to understand and address the various factors influencing the adoption and growth of electric vehicles (EVs) in Washington. Specifically, we aim to investigate the impact of the COVID-19 pandemic on EV adoption, identify the market-leading companies and their successful strategies, analyse the factors contributing to the popularity of the top 5 EV models, explore the performance and range capabilities of the fastest EVs in Washington, examine patterns and trends in model years and base MRPs of EVs, determine the key success factors driving the sales of the top 10 companies and their EV models, analyse the variation in base MSRP across different types of EVs, assess the differences in EV adoption across cities in Washington, uncover the factors influencing the choice of EV models in different counties, and explore how the popularity and rivalry among the top 5 EV models can be leveraged to increase overall EV adoption stateside. By addressing these questions, we can gain valuable insights and develop strategies to accelerate the adoption of EVs in Washington, promoting sustainable transportation and reducing carbon emissions.\n",
    "\n",
    "## Methodology:\n",
    "To analyse the electric vehicle data set, a comprehensive methodology involving data pre-processing, exploratory data analysis, and advanced analytics techniques can be employed. The process begins with cleaning and transforming the raw data to ensure accuracy and consistency. Exploratory data analysis techniques, such as data visualization using Tableau, can be used to gain initial insights and identify patterns, trends, and correlations within the data.\n",
    "\n",
    "Further analysis can involve advanced analytics techniques, including machine learning algorithms, regression analysis, and clustering methods. These techniques can help identify the key factors driving EV adoption, predict future adoption trends, and understand the relationships between variables such as EV sales, demographic factors, charging infrastructure, and government incentives.\n",
    "This holistic approach enables us to develop a comprehensive understanding of the factors influencing the EV ecosystem. Leveraging advanced analytics techniques, we can uncover valuable insights that have practical applications in shaping policies, devising infrastructure plans, and formulating effective marketing strategies. By leveraging the power of big data, we can drive the transition towards sustainable transportation and contribute to the widespread adoption of electric vehicles, leading to reduced carbon emissions and a cleaner, greener future.\n",
    "\n",
    "Overall, the methodology involves a systematic approach to leverage big data analytics techniques in analysing the electric vehicle data set. It allows us to uncover valuable insights, understand the underlying patterns, and address the real-world problem of promoting sustainable transportation through the adoption of electric vehicles.\n",
    "\n",
    "## About Dataset:\n",
    "### DATASET LINK\n",
    "\n",
    "The dataset provides valuable insights into the growing population of EVs in Washington. It is maintained by the Washington State Department of Licensing (DOL) and is regularly updated to reflect the latest information available. The data includes various attributes related to each registered electric vehicle, such as the make, model, year, vehicle identification number (VIN), license plate number, and county of registration.\n",
    "\n",
    "With this dataset, users can analyse the distribution and trends of electric vehicles across different regions of Washington. They can also gain insights into the types of electric vehicles preferred by consumers, the growth rate of the EV market, and the impact of electric transportation on carbon emissions in the state. \n",
    "\n",
    "The dataset contains 130,000 rows and 17 columns. Each row represents a specific electric vehicle registered in the state of Washington. The columns likely include attributes such as the make, model, year, VIN, license plate number, county of registration, and possibly other information related to the vehicles.\n",
    "\n",
    "Having 130,000 rows suggests a substantial amount of data, which allows for comprehensive analysis and exploration of the electric vehicle population in Washington. Researchers and analysts can use this dataset to gain deeper insights into various aspects of the EV market, including trends, distribution, and specific vehicle characteristics.\n",
    "By examining the different columns, one can potentially investigate questions related to the popularity of specific EV models, the growth rate of EV adoption, geographical variations in EV registrations, and other factors that contribute to the overall electric vehicle landscape in Washington.\n"
   ]
  },
  {
   "cell_type": "markdown",
   "id": "bc181038",
   "metadata": {},
   "source": [
    "![](EcoData1.jpg)"
   ]
  },
  {
   "cell_type": "markdown",
   "id": "4447d863",
   "metadata": {},
   "source": [
    "### Addressing the Business Questions:\n",
    "1.How did the COVID-19 pandemic affect the adoption and growth of electric vehicles in Washington?\n",
    "\n",
    "2.Which companies are leading the market in terms of EV sales, and what strategies have contributed to their success?\n",
    "\n",
    "3.What factors have contributed to the popularity and trendiness of the top 5 EV models in Washington?\n",
    "\n",
    "4.What are the fastest and most high-performance electric vehicles in Washington, and what are their range capabilities?\n",
    "\n",
    "5.What patterns or trends can be observed in the model years and base MRPs of electric vehicles?\n",
    "\n",
    "6.What are the key success factors driving the sales of the top 10 companies and their EV models?\n",
    "\n",
    "7.How does the base MSRP of electric vehicles vary across different types of EVs?\n",
    "\n",
    "8.How does the adoption of electric vehicles vary across different cities in Washington?\n",
    "\n",
    "9.What factors influence the choice of electric vehicle models in different counties of Washington?\n",
    "\n",
    "10.How can the popularity and rivalry among the top 5 EV models be leveraged to increase overall EV adoption statewide?\n",
    "\n",
    "### ANALYSIS:\n",
    "\n",
    "The initial phase of the analysis entails delving into the dataset to gain a comprehensive understanding of its composition and organization. This preliminary investigation serves as the foundational step, where we meticulously scrutinize the structural characteristics inherent within the dataset.\n"
   ]
  },
  {
   "cell_type": "markdown",
   "id": "67a11ad3",
   "metadata": {},
   "source": [
    "![](Ecocleaning1.png)"
   ]
  },
  {
   "cell_type": "markdown",
   "id": "f8f8dcfe",
   "metadata": {},
   "source": [
    "### Data Cleaning:\n",
    "\n",
    "The Python script presented herein employs the versatile pandas library to manipulate and scrutinize a dataset encompassing the electric vehicle population. The script orchestrates a series of operations to extract meaningful information from the dataset, commencing with the ingestion of data from a CSV file into a Data Frame. Subsequently, it proceeds to eliminate extraneous columns, bestow new names upon selected columns, eradicate rows afflicted by missing values, and generate descriptive statistics. Through the execution of this code, users can embark on an initial exploration of the dataset's intricacies, unraveling its underlying structure, discerning the salient columns of import, and unraveling the nuanced numerical attributes intrinsic to the data.\n",
    "\n",
    "This Python script epitomizes a comprehensive endeavor to cleanse and refine the dataset, ensuring its suitability for subsequent analysis. The amalgamation of pandas' robust functionalities with the script's intricately orchestrated operations empowers users to derive insights that extend beyond the surface-level aspects of the dataset. By unveiling the dataset's inner workings, eliminating superfluous elements, and extracting informative statistical summaries, this code facilitates the generation of a solid foundation upon which more in-depth analysis can be built. Consequently, users can delve into the dataset armed with an initial understanding of its fundamental characteristics, thereby enabling the extraction of meaningful insights and the formulation of informed decisions within the realm of electric vehicle population analysis.\n",
    "\n"
   ]
  },
  {
   "cell_type": "markdown",
   "id": "c5fdfa1a",
   "metadata": {},
   "source": [
    "![](DC1.png)"
   ]
  },
  {
   "cell_type": "markdown",
   "id": "1b075715",
   "metadata": {},
   "source": [
    "![](DC2.png)"
   ]
  },
  {
   "cell_type": "markdown",
   "id": "cab04fbf",
   "metadata": {},
   "source": [
    "![](DC3.png)"
   ]
  },
  {
   "cell_type": "markdown",
   "id": "562d0f41",
   "metadata": {},
   "source": [
    "![](DC4.png)"
   ]
  },
  {
   "cell_type": "markdown",
   "id": "9e80e0e7",
   "metadata": {},
   "source": [
    "![](DC5.png)"
   ]
  },
  {
   "cell_type": "markdown",
   "id": "915abcf6",
   "metadata": {},
   "source": [
    "### Summary of the dataset: \n",
    "\n",
    "The electric vehicle dataset provides a comprehensive overview of the electric vehicle population in Washington. The dataset includes information on various aspects such as adoption and growth during the COVID-19 pandemic, leading companies in terms of EV sales and their strategies, factors influencing the popularity of top EV models, fastest and high-performance electric vehicles and their range capabilities, patterns and trends in model years and base MRPs, key success factors driving sales of top companies and their EV models, variations in base MSRP across different types of EVs, adoption of electric vehicles across different cities in Washington, factors influencing the choice of EV models in different counties, and leveraging the popularity and rivalry among top EV models to increase overall EV adoption statewide. The dataset is visualized using Tableau and includes interactive dashboards that provide valuable insights and allow for in-depth analysis of the electric vehicle market in Washington.\n"
   ]
  },
  {
   "cell_type": "markdown",
   "id": "bf3388f6",
   "metadata": {},
   "source": [
    "![](SD.png)"
   ]
  },
  {
   "cell_type": "markdown",
   "id": "0e1f7e24",
   "metadata": {},
   "source": [
    "The data set summary provides a comprehensive range of statistical measures for both numerical and categorical variables. The table offers valuable information on the count, mean, standard deviation, minimum, and maximum values for numerical variables. For instance, the Electric range variable has a mean value of 76.705718 and a standard deviation of 99.421571.\n",
    "\n",
    "\n",
    "\n",
    "### Tools and Techniques Used for Visualizations: \n",
    "\n",
    "The analysis of the Electric Vehicle (EV) population dataset involved the utilization of Tableau as the primary tool for visualization. Tableau's extensive range of features and interactive capabilities provided a robust platform for creating two comprehensive dashboards, enabling the exploration, and addressing of various business problem questions surrounding the EV population dataset.\n",
    "\n",
    "Throughout the analysis process, a diverse set of techniques and visualizations were employed, tailored to the specific inquiries at hand. To examine the impact of the COVID-19 pandemic on EV adoption and growth in Washington, time series visualizations, line charts, and comparative analysis techniques were harnessed. These methods facilitated the assessment of trends and fluctuations in EV adoption rates during the pandemic period, shedding light on the influence of external factors on EV sales.\n",
    "\n",
    "Moving on to market dynamics, bar charts, pie charts, and data filtering techniques were instrumental in identifying the market leaders in terms of EV sales. These visualizations not only showcased the overall sales figures but also allowed for a detailed analysis of the distribution of EV sales among different companies. By understanding the strategies and performance of these leading companies, valuable insights were gained, empowering stakeholders to make informed decisions and develop effective sales strategies.\n",
    "Additionally, the analysis delved into the fastest and most high-performance EVs in Washington, examining their range capabilities and overall performance. Interactive tables, data filtering, and sorting techniques enabled the comparison and ranking of these vehicles based on various metrics. This information is valuable for consumers and policymakers alike, as it helps to identify the most suitable options and encourages the adoption of high-performance EVs.\n",
    "Furthermore, the analysis extended to the investigation of model years and base Manufacturer's Suggested Retail Prices (MSRPs) of EVs. Line charts, histograms, and box plots were utilized to uncover patterns, trends, and variations within these variables. This knowledge is crucial for understanding the evolution of EV technology and market pricing, which can inform strategic decision-making in terms of product development and market positioning.\n",
    "\n",
    "By conducting comparative analysis, correlation visualizations, and employing data filtering techniques, the analysis sought to identify the key success factors driving the sales of the top 10 companies and their EV models. This exploration aimed to uncover the factors that contribute to the popularity and sales performance of specific models, providing valuable insights into consumer preferences, market demand, and competitive advantages.\n",
    "\n",
    "Through this comprehensive analysis, beyond the basic findings, a wealth of deeper insights was likely gained. These insights could include identifying specific trends in EV adoption, understanding the factors driving consumer preferences, highlighting the competitive landscape among EV models, and uncovering opportunities to leverage popularity and rivalry to increase overall EV adoption statewide. The combination of Tableau's powerful visualization capabilities and the thorough analysis of the EV population dataset yielded a rich understanding of the dynamics within Washington's EV market, enabling informed decision-making and strategic recommendations for the report.\n",
    "\n",
    "## Dashboard: 1\n"
   ]
  },
  {
   "cell_type": "markdown",
   "id": "06030234",
   "metadata": {},
   "source": [
    "![](DB1.png)"
   ]
  },
  {
   "cell_type": "markdown",
   "id": "250662e1",
   "metadata": {},
   "source": [
    "The Tableau dashboard for the Electric Vehicle population dataset employs a variety of intricate visualizations to extract valuable insights and discern patterns within the data. Among these visualizations is a dual combination graph, which effectively illustrates the overall trend of EV population during the pandemic period, enabling a nuanced understanding of the impact of COVID-19 on EV adoption and growth in Washington. Additionally, a horizontal bar graph intricately highlights the top 10 EV companies based on their moving average sales, facilitating a detailed examination of market leaders and their sales performance. The utilization of a histogram further delves into the frequency distribution of the top 5 trending EV models in Washington, affording a comprehensive understanding of consumer preferences and popular choices. Moreover, a packed bubbles chart intricately showcases the performance and range capabilities of electric vehicles, allowing for intricate comparisons and the identification of models with exceptional performance. Lastly, an area chart intricately visualizes the distribution of model years and base MSRPs of electric vehicles, unraveling complex patterns and variations in the EV market. The intricate nature of these visualizations within the Tableau dashboard enables decision-makers to gain a comprehensive and detailed analysis of EV adoption, market trends, and critical factors shaping the industry, empowering them with nuanced insights for informed and strategic decision-making in the dynamic electric vehicle sector.\n",
    "\n",
    "\n"
   ]
  },
  {
   "cell_type": "markdown",
   "id": "73ccfb7a",
   "metadata": {},
   "source": [
    "## Dashboard 2:\n",
    "\n",
    "![](DB2.png)"
   ]
  },
  {
   "cell_type": "markdown",
   "id": "b899fd64",
   "metadata": {},
   "source": [
    "The Tableau dashboard for the Electric Vehicle population dataset offers a comprehensive exploration of clustering, correlations, and patterns through its diverse collection of sheets. One sheet delves into sales performance, shedding light on the achievements of the top 10 companies in the electric vehicle market and their respective models. Visualizations like bar charts and line graphs enable users to identify trends, compare sales figures, and determine the market leaders. Another sheet examines the distribution of electric vehicle types and their prices, utilizing dynamic visuals such as pie charts and stacked bar charts to unveil insights into the proportions and pricing variations. The geospatial aspect is covered in a sheet showcasing the distribution of EVs across different cities, while another sheet focuses on model preferences in various counties. Lastly, a sheet highlights the top 5 models that spark statewide rivalries, allowing users to analyze sales figures and observe popularity fluctuations. Through captivating visualizations and thoughtful analysis, the Tableau dashboard provides valuable insights into the electric vehicle industry.\n",
    "\n",
    "\n",
    "\n",
    "### Insights from Basic analysis:\n",
    "\n",
    "The utilization of Tableau as a visualization tool played a crucial role in facilitating an extensive examination of the Electric Vehicle population dataset. The decision to employ Tableau stemmed from its capacity to handle voluminous datasets, generate interactive and visually captivating visualizations, and facilitate effortless data exploration. The dashboards created through Tableau yielded insights that surpassed conventional analysis by shedding light on diverse facets of the dataset.\n",
    "\n",
    "The analysis unearthed the profound influence of the COVID-19 pandemic on the acceptance and expansion of electric vehicles in Washington, revealing a notable surge in sales during the pandemic period. By identifying the leading companies in terms of electric vehicle sales, along with their strategies that contributed to their success, the study shed light on key determinants behind their accomplishments. Furthermore, an examination of the factors that influenced the popularity of the top 5 electric vehicle models and the identification of the fastest and high-performance electric vehicles in Washington unraveled intriguing patterns and trends. Additionally, the analysis delved into the model years and base manufacturer's suggested retail prices (MSRP) of electric vehicles, providing valuable insights into the dynamics of the market.\n",
    "\n",
    "Furthermore, the research scrutinized variations in base MSRP across different types of electric vehicles and explored adoption patterns across various cities in Washington. By investigating the factors that influenced the selection of electric vehicle models in different counties of Washington, the study gained further insights into the drivers of consumer preferences. Lastly, leveraging the popularity and competition among the top 5 electric vehicle models to enhance overall electric vehicle adoption statewide was thoroughly examined. Collectively, the findings of the analysis provided a comprehensive understanding of the electric vehicle market in Washington and elucidated the factors propelling its growth and widespread adoption.\n",
    "\n",
    "Moreover, the scrutiny of electric vehicle model years and the underlying base manufacturer's suggested retail prices (MSRP) offers profound insights into the progressive development of the market and the attainability of electric vehicles across temporal dimensions. By comprehending the patterns and dynamics in pricing trends and the availability of various models, stakeholders can adeptly navigate the intricacies of pricing strategies, ascertain optimal market positioning, and facilitate judicious product development initiatives. \n",
    "\n",
    "Taken as a whole, these discerning observations derived from the rudimentary analysis of the Electric Vehicle population dataset serve as a bedrock for delving further into comprehensive investigations and embarking on astute strategic decision-making endeavors within the realm of the electric vehicle industry.\n",
    "\n",
    "\n"
   ]
  },
  {
   "cell_type": "markdown",
   "id": "a6d99dc5",
   "metadata": {},
   "source": [
    "## Modeling\n",
    "\n",
    "### 1.\tRandom Forest Regression Model:\n",
    "\n",
    "![](RFM.png)\n"
   ]
  },
  {
   "cell_type": "markdown",
   "id": "8555c414",
   "metadata": {},
   "source": [
    "Random Forest is an ensemble learning algorithm that combines multiple decision trees to make predictions. Each decision tree in the Random Forest is built on a randomly sampled subset of the data and features, and the final prediction is made by aggregating the predictions of all individual trees.\n",
    "Random Forest is suitable for regression tasks like predicting the Model year based on the input variable Electric range. By constructing an ensemble of decision trees, Random Forest can capture complex relationships between Electric range and Model year. It is robust against overfitting, handles missing values well, and provides insights into feature importance.\n",
    "\n",
    "### Testing/Training:\n",
    "Random Forest Model\n",
    "In my analysis of the Electric Vehicle Population Data set, I opted for the Random Forest modeling technique to predict the model year based on the electric range variable. This choice was motivated by Random Forest's ability to handle complex datasets with multiple features, reducing overfitting, and providing robust predictions.\n",
    "\n",
    "To assess the model's performance, I divided the dataset into training and testing sets using an 80:20 ratio. This splitting was achieved using the train_test_split function from the sklearn.model_selection module, where 20% of the data was reserved for testing, and the remaining 80% was used for model training. This approach ensured an effective evaluation of the model's generalization capability.\n",
    "\n",
    "During training, the Random Forest regression model was fitted to the training data, enabling it to learn from the relationships within the data. Subsequently, the model was tested on the unseen data in the testing set. The evaluation revealed a Mean Squared Error (MSE) of 1.16, indicating relatively accurate predictions. Furthermore, the model achieved an impressive accuracy of 86.92%, signifying a strong alignment between its predicted values and the actual target values.\n",
    "\n",
    "In conclusion, the application of the Random Forest modeling technique, along with appropriate data splitting, facilitated efficient analysis and evaluation of the Electric Vehicle Population Data set. The outcomes from this analysis provide valuable insights into predicting the model year based on the electric range variable, supporting informed decision-making and strategy development for stakeholders engaged in the electric vehicle market.\n",
    "\n"
   ]
  },
  {
   "cell_type": "markdown",
   "id": "810f4465",
   "metadata": {},
   "source": [
    "### 2.\tGradient Boosting Regression Model:\n",
    "\n",
    "![](GBR.png)"
   ]
  },
  {
   "cell_type": "markdown",
   "id": "d15359ed",
   "metadata": {},
   "source": [
    "Gradient Boosting is another ensemble learning technique that combines multiple weak prediction models (typically decision trees) in a sequential manner. It aims to build a strong predictive model by iteratively fitting new models to the residuals of the previous models.\n",
    "Gradient Boosting is effective for regression tasks and can be used to predict the Model year based on Electric range. It is known for its ability to handle complex relationships, non-linearities, and interactions in the data. It iteratively improves the model's predictions by focusing on the instances where the previous models performed poorly, resulting in a more accurate and robust final model.\n",
    "\n",
    "\n",
    "\n",
    "### Testing/Training:\n",
    "Gradient Boost Model\n",
    "In my analysis of the Electric Vehicle Population Data set, I employed the Gradient Boosting modeling technique to predict the model year based on the electric range variable. This approach was chosen due to Gradient Boosting's effectiveness in handling complex relationships and non-linearities in the data. By iteratively fitting new models to the residuals of the previous models, Gradient Boosting aims to build a strong predictive model.\n",
    "\n",
    "To evaluate the performance of the model, the dataset was split into training and testing sets using a 80:20 ratio. The train_test_split function from the sklearn.model_selection module was utilized, allocating 20% of the data for testing purposes while using the remaining 80% for training. This separation allowed for a comprehensive assessment of the model's ability to generalize to unseen data.\n",
    "\n",
    "During training, the Gradient Boosting regression model was fitted to the training data, enabling it to learn the underlying patterns and relationships. Once trained, the model was then evaluated on the testing set, consisting of data that was not used during training. This evaluation revealed that the model achieved a Mean Squared Error (MSE) of 1.306, indicating reasonable performance. Additionally, the reported accuracy of 85.29% suggests that the model's predictions align with the actual values with a high degree of accuracy.\n",
    "\n",
    "In conclusion, the utilization of Gradient Boosting, along with the appropriate splitting of the dataset, allowed for effective modeling and evaluation of the Electric Vehicle Population Data set. The findings from this analysis offer valuable insights into predicting the model year based on the electric range variable, enabling informed decision-making and strategy development for various stakeholders involved in the electric vehicle market.\n",
    "\n",
    "\n",
    "#### Choice of X and y variables:\n",
    "X (Electric range): Electric range was chosen as the input variable (X) because it represents a significant characteristic of electric vehicles. Electric range indicates the distance an electric vehicle can travel on a single charge. It is an essential factor in determining the capabilities and performance of electric vehicles. By using Electric range as the input, we aim to understand its relationship with the Model year.\n",
    "\n",
    "\n",
    "y (Model year): Model year was selected as the target variable (y) because it represents the year in which an electric vehicle model was manufactured. Predicting the Model year based on Electric range allows us to estimate the manufacturing year of an electric vehicle using its electric range. By developing a regression model, we can leverage historical data to make predictions about the Model year for new, unseen instances.\n",
    "\n",
    "By using Random Forest and Gradient Boosting algorithms on the dataset with Electric range as the input variable (X) and Model year as the target variable (y), we aim to explore and quantify the relationship between the two variables. The modeling process allows us to create predictive models that can estimate or predict the Model year based on the given Electric range, providing insights into how electric range correlates with the manufacturing year of electric vehicles.\n",
    "\n",
    "### Insights about both the Modeling’s MSE and Accuracy:\n",
    "\n",
    "1. Mean Squared Error (MSE): The MSE is a measure of the average squared difference between the predicted and actual values. A lower MSE indicates that the model's predictions are closer to the actual values. \n",
    "\n",
    "   - For the Gradient Boosting model, the MSE of 1.3060130525276776 suggests that, on average, the predicted values are off by approximately 1.3060130525276776 units squared. Smaller MSE values generally indicate better model performance, although the interpretation of the MSE depends on the scale and context of the target variable.\n",
    "\n",
    "   - For the Random Forest model, the MSE of 1.1600416634933268 implies that, on average, the predicted values deviate by approximately 1.1600416634933268 units squared from the actual values. This indicates that the Random Forest model's predictions are, on average, slightly closer to the actual values compared to the Gradient Boosting model.\n",
    "\n",
    "2. Accuracy:\n",
    "   - For the Gradient Boosting model, the reported accuracy of 85.29430221590377 suggests that the model's predictions match the actual values with an accuracy of approximately 85.29%. It is important to note that accuracy in regression tasks may not have a direct interpretation like in classification tasks, and its calculation may vary based on the specific context.\n",
    "\n",
    "   - For the Random Forest model, the reported accuracy of 86.93793902957061 indicates that the model's predictions align with the actual values with an accuracy of around 86.94%. Similarly, the interpretation of this accuracy value in a regression context may vary and depends on the specific calculation method used.\n",
    "\n",
    "In summary, the Mean Squared Error (MSE) values obtained from the Gradient Boosting and Random Forest models provide insights into the average squared difference between the predicted and actual values of the Model year. The Gradient Boosting model has an MSE of 1.306, indicating that, on average, the predicted values deviate by approximately 1.306 units squared from the actual values. On the other hand, the Random Forest model has a slightly lower MSE of 1.160, implying that the predicted values deviate by approximately 1.160 units squared from the actual values. This suggests that the Random Forest model's predictions are, on average, slightly closer to the actual values compared to the Gradient Boosting model. However, a more comprehensive evaluation considering other metrics would be necessary to fully assess the models' accuracy and suitability for the specific task and dataset.\n",
    "\n",
    "\n",
    "\n",
    "\n",
    "## Conclusion:\n",
    "\n",
    "The comprehensive exploration of the electric vehicle population dataset, complemented by the utilization of Tableau dashboards and advanced modeling techniques, has yielded an extensive comprehension of the electric vehicle (EV) market in Washington. The Tableau dashboards proved instrumental in facilitating intuitive data exploration and visualization, enabling the identification of crucial patterns and enlightening insights that underscore the dynamics of the market.\n",
    "\n",
    "By employing a diverse range of modeling techniques, including Linear Regression, Random Forest, and Gradient Boosting, our objective was to forecast the model year based on the electric range variable. Encouragingly, the results showcased promising predictive capabilities for both the Random Forest and Gradient Boosting models. Notably, the Random Forest model exhibited a lower Mean Squared Error (MSE) of 1.16, signifying a relatively precise prediction capacity, while the Gradient Boosting model demonstrated a slightly higher MSE of 1.306, indicative of satisfactory performance.\n",
    "\n",
    "Furthermore, the Tableau dashboards unveiled invaluable insights into the intricate dynamics of the EV market, unearthing the influence of the unprecedented COVID-19 pandemic on EV adoption. The analysis further discerned market leaders and their strategic approaches, delved into the popularity of specific EV models, and scrutinized pivotal factors encompassing performance, pricing, and geographical distribution.\n",
    "\n",
    "In conclusion, the powerful amalgamation of Tableau dashboards and advanced modeling techniques has substantially enriched our comprehension of the EV market in Washington. These findings emphasize the pivotal role played by the electric range variable in predicting the model year while furnishing invaluable insights pertaining to market trends, consumer preferences, and the competitive landscape. Consequently, stakeholders spanning policymakers, manufacturers, and consumers can leverage these discernments to make informed decisions and devise strategies aimed at fostering the growth and widespread adoption of electric vehicles in Washington.\n",
    "\n",
    "\n",
    "\n",
    "## References:\n",
    "•\tElectric Vehicle Population Data - Catalog. (2023, May 13). https://catalog.data.gov/dataset/electric-vehicle-population-data\n",
    "•\tCreate a Simple Calculated Field. (n.d.). Tableau. https://help.tableau.com/current/pro/desktop/en-us/calculations_calculatedfields_formulas.htm\n",
    "•\tBuild Data Views from Scratch. (n.d.). Tableau. https://help.tableau.com/current/pro/desktop/en-us/building_overview.htm\n",
    "•\tGeeksforGeeks. (2023). Random Forest Regression in Python. GeeksforGeeks. https://www.geeksforgeeks.org/random-forest-regression-in-python/\n",
    "•\tKumar, A. (2020, December 14). Gradient Boosting Regression Python Examples - Data Analytics. Data Analytics. https://vitalflux.com/gradient-boosting-regression-python-examples/\n",
    "\n"
   ]
  },
  {
   "cell_type": "code",
   "execution_count": null,
   "id": "32eaf3ec",
   "metadata": {},
   "outputs": [],
   "source": []
  }
 ],
 "metadata": {
  "kernelspec": {
   "display_name": "Python 3 (ipykernel)",
   "language": "python",
   "name": "python3"
  },
  "language_info": {
   "codemirror_mode": {
    "name": "ipython",
    "version": 3
   },
   "file_extension": ".py",
   "mimetype": "text/x-python",
   "name": "python",
   "nbconvert_exporter": "python",
   "pygments_lexer": "ipython3",
   "version": "3.11.5"
  }
 },
 "nbformat": 4,
 "nbformat_minor": 5
}
