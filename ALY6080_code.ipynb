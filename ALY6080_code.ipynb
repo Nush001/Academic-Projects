{
  "nbformat": 4,
  "nbformat_minor": 0,
  "metadata": {
    "colab": {
      "provenance": []
    },
    "kernelspec": {
      "name": "python3",
      "display_name": "Python 3"
    },
    "language_info": {
      "name": "python"
    }
  },
  "cells": [
    {
      "cell_type": "code",
      "execution_count": null,
      "metadata": {
        "id": "r2cy9vTrAma3"
      },
      "outputs": [],
      "source": [
        "import pulp\n",
        "import pandas as pd\n",
        "\n",
        "\n",
        "attendee_data = pd.read_csv(\"Attendee_data.csv\")\n",
        "reviewer = pd.read_csv(\"Reviwer_data.csv\")\n",
        "\n",
        "#Initialize the model\n",
        "model = pulp.lpProblem(\"Reviewer_to_Attendee_Allocation\", pulp.lpMinimize)\n",
        "\n",
        "#Decision Variables\n",
        "X = pulp.lpVariable.dicts(\"match\", (attendees, reviewers, sessions), cat='Binary')\n",
        "\n",
        "# Objective function\n",
        "model += pulp.lpSum([X[a][r][s]* reviewer_rating[r] for a in attendees for r in rewiwers for s in session])"
      ]
    },
    {
      "cell_type": "code",
      "source": [
        "# Each attendee should be reviwed once per session\n",
        "for a in attendees:\n",
        "  for s in sessions:\n",
        "    model += pulp.lpSum([X[a][r][s] for r in reviewers]) ==1\n",
        "\n",
        "# Each reviwer can review only one attendee per session and only if they are available\n",
        "for r in reviewers:\n",
        "  for s in sessions:\n",
        "    model += pulp.lpSum([x[a][r][s] for a in attendees]) <=1\n",
        "\n",
        "# Attendance constraints\n",
        "for a in attendees:\n",
        "  for r in reviewers:\n",
        "    for s in sessions:\n",
        "      model += X[a][r][s] <= attendee_availlability[a][s]"
      ],
      "metadata": {
        "id": "zCgAkudQCBMB"
      },
      "execution_count": null,
      "outputs": []
    },
    {
      "cell_type": "code",
      "source": [
        "# Solve the problem\n",
        "model.solve()\n",
        "print(\"Status:\", pulp.LpStatus[model.status])\n",
        "\n",
        "# If the model has a feasible solution, printout the matches\n",
        "if model.status ==1:\n",
        "  for a in attendees:\n",
        "    for r in reviewers:\n",
        "      for s in sessions:\n",
        "        if pulp.value(X[a][r][s]) ==1:\n",
        "          print(f\"Attendee {a} is reviewed by {r} at session {s}\")\n"
      ],
      "metadata": {
        "id": "P8PkeH4gDRMM"
      },
      "execution_count": null,
      "outputs": []
    }
  ]
}